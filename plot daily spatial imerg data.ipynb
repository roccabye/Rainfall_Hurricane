{
 "cells": [
  {
   "cell_type": "markdown",
   "metadata": {},
   "source": [
    "# Read IMERG Data Using Python\n",
    "# Develop Spatial Plot for daily data\n",
    "\n",
    "***\n",
    "\n",
    "## Overview:\n",
    "This code shows how to read data from the Global Precipitation Measurement (GPM) mission's IMERG dataset using Python.\n",
    "***Example data:*** _GPM Level 3 IMERG Monthly 0.1 x 0.1 degree Precipitation (GPM\\_3IMERGM) for September 2020 (Hurricane Laura)._\n",
    "\n",
    "**Estimated Time to complete the following procedures:** 20 minutes\n",
    "\n",
    "## Prerequisites:\n",
    "**Requirements:** Python and the free packages:[netCDF4](https://pypi.org/project/netCDF4/), [h5py](http://www.h5py.org/), [numpy](http://www.numpy.org/), [matplotlib](http://matplotlib.org/), and [cartopy](https://scitools.org.uk/cartopy/docs/latest/). Matplotlib and Cartopy are only needed for plotting.\n",
    "### 2. Run the following cells to learn how to read and plot IMERG data with Python\n",
    "\n",
    "The first step is to import the required Python libraries. If any of the following import commands fail, check the local Python environment and install any missing packages. "
   ]
  },
  {
   "cell_type": "code",
   "execution_count": 3,
   "metadata": {},
   "outputs": [],
   "source": [
    "import netCDF4\n",
    "import numpy as np\n",
    "import matplotlib.pyplot as plt\n",
    "import cartopy.crs as ccrs\n",
    "from cartopy.mpl.gridliner import LONGITUDE_FORMATTER, LATITUDE_FORMATTER\n",
    "import matplotlib.ticker as mticker"
   ]
  },
  {
   "cell_type": "code",
   "execution_count": null,
   "metadata": {},
   "outputs": [],
   "source": []
  }
 ],
 "metadata": {
  "kernelspec": {
   "display_name": "Python 3",
   "language": "python",
   "name": "python3"
  },
  "language_info": {
   "codemirror_mode": {
    "name": "ipython",
    "version": 3
   },
   "file_extension": ".py",
   "mimetype": "text/x-python",
   "name": "python",
   "nbconvert_exporter": "python",
   "pygments_lexer": "ipython3",
   "version": "3.7.3"
  }
 },
 "nbformat": 4,
 "nbformat_minor": 2
}
